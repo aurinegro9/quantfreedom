{
  "cells": [
    {
      "cell_type": "code",
      "execution_count": 1,
      "metadata": {},
      "outputs": [],
      "source": [
        "from my_keys import MufexKeys\n",
        "import numpy as np\n",
        "import pandas as pd\n",
        "from quantfreedom.exchanges.mufex import Mufex\n",
        "from quantfreedom.core.enums import PositionModeType, LeverageModeType\n",
        "from datetime import datetime\n",
        "from quantfreedom import pretty_qf\n",
        "from time import time\n",
        "\n",
        "np.set_printoptions(formatter={\"float_kind\": \"{:0.1f}\".format})\n",
        "\n",
        "symbol = 'BTCUSDT'\n",
        "trading_with = 'USDT'\n",
        "\n",
        "\n",
        "%load_ext autoreload\n",
        "%autoreload 2"
      ]
    },
    {
      "cell_type": "code",
      "execution_count": 2,
      "metadata": {},
      "outputs": [],
      "source": [
        "mufex_test_kay = Mufex(\n",
        "    api_key=MufexKeys.testnet_kay_api_key,\n",
        "    secret_key=MufexKeys.testnet_kay_secret_key,\n",
        "    use_testnet=True,\n",
        ")\n",
        "mufex_test_vlad = Mufex(\n",
        "    api_key=MufexKeys.testnet_vlad_api_key,\n",
        "    secret_key=MufexKeys.testnet_vlad_secret_key,\n",
        "    use_testnet=True,\n",
        ")\n",
        "mufex_test_neo = Mufex(\n",
        "    api_key=MufexKeys.testnet_neo_api_key,\n",
        "    secret_key=MufexKeys.testnet_neo_secret_key,\n",
        "    use_testnet=True,\n",
        ")\n",
        "mufex_main_neo = Mufex(\n",
        "    api_key=MufexKeys.mainnet_neo_api_key,\n",
        "    secret_key=MufexKeys.mainnet_neo_secret_key,\n",
        "    use_testnet=False,\n",
        ")"
      ]
    },
    {
      "cell_type": "code",
      "execution_count": null,
      "metadata": {},
      "outputs": [],
      "source": [
        "mufex_main_neo.set_and_get_exchange_settings_tuple(leverage_mode=LeverageModeType.ISOLATED, position_mode=PositionModeType.LONG)"
      ]
    },
    {
      "cell_type": "code",
      "execution_count": 3,
      "metadata": {},
      "outputs": [
        {
          "data": {
            "text/plain": [
              "['adjust_order',\n",
              " 'cancel_all_open_orders_per_symbol',\n",
              " 'cancel_open_order',\n",
              " 'check_if_order_canceled',\n",
              " 'check_if_order_filled',\n",
              " 'check_if_order_open',\n",
              " 'check_long_hedge_mode_if_in_position',\n",
              " 'close_hedge_positions_and_orders',\n",
              " 'create_long_hedge_mode_entry_market_order',\n",
              " 'create_long_hedge_mode_entry_market_order_with_stoploss',\n",
              " 'create_long_hedge_mode_sl_order',\n",
              " 'create_long_hedge_mode_tp_limit_order',\n",
              " 'create_order',\n",
              " 'get_all_symbols_info',\n",
              " 'get_balance',\n",
              " 'get_candles',\n",
              " 'get_closed_pnl',\n",
              " 'get_current_pd_datetime',\n",
              " 'get_current_time_ms',\n",
              " 'get_current_time_sec',\n",
              " 'get_exchange_timeframe',\n",
              " 'get_fee_pcts',\n",
              " 'get_filled_order_by_order_id',\n",
              " 'get_filled_orders',\n",
              " 'get_latest_pnl_result',\n",
              " 'get_long_hedge_mode_position_info',\n",
              " 'get_ms_time_to_pd_datetime',\n",
              " 'get_no_fees_balance_of_asset_market_in_only',\n",
              " 'get_open_order_by_order_id',\n",
              " 'get_open_orders',\n",
              " 'get_order_history',\n",
              " 'get_order_history_by_order_id',\n",
              " 'get_params_as_dict_string',\n",
              " 'get_params_as_path',\n",
              " 'get_position_info',\n",
              " 'get_risk_limit_info',\n",
              " 'get_since_until_timestamp',\n",
              " 'get_sleep_time_to_next_bar',\n",
              " 'get_symbol_trading_fee_rates',\n",
              " 'get_symbols_list',\n",
              " 'get_timeframe_in_ms',\n",
              " 'get_timeframe_in_s',\n",
              " 'get_trading_fee_rates',\n",
              " 'get_wallet_info',\n",
              " 'int_value_of_step_size',\n",
              " 'last_fetched_time_to_pd_datetime',\n",
              " 'list_of_functions',\n",
              " 'move_limit_order',\n",
              " 'move_open_order',\n",
              " 'move_stop_order',\n",
              " 'remove_none_from_dict',\n",
              " 'set_and_get_exchange_settings_tuple',\n",
              " 'set_init_last_fetched_time',\n",
              " 'set_leverage',\n",
              " 'set_leverage_mode',\n",
              " 'set_leverage_mode_cross',\n",
              " 'set_leverage_mode_isolated',\n",
              " 'set_position_mode',\n",
              " 'set_position_mode_as_hedge_mode',\n",
              " 'set_position_mode_as_one_way_mode',\n",
              " 'sort_dict',\n",
              " 'sort_list_of_dicts']"
            ]
          },
          "execution_count": 3,
          "metadata": {},
          "output_type": "execute_result"
        }
      ],
      "source": [
        "mufex_test_neo.list_of_functions()"
      ]
    },
    {
      "cell_type": "code",
      "execution_count": 3,
      "metadata": {},
      "outputs": [],
      "source": [
        "candles = mufex_main_neo.get_candles(\n",
        "    symbol=symbol,\n",
        "    timeframe=\"5m\",\n",
        ")"
      ]
    },
    {
      "cell_type": "code",
      "execution_count": 4,
      "metadata": {},
      "outputs": [
        {
          "data": {
            "text/plain": [
              "FootprintCandlesTuple(candle_open_datetimes=array(['2024-05-10T07:55:00.000', '2024-05-10T08:00:00.000',\n",
              "       '2024-05-10T08:05:00.000', ..., '2024-05-15T12:40:00.000',\n",
              "       '2024-05-15T12:45:00.000', '2024-05-15T12:50:00.000'],\n",
              "      dtype='datetime64[ms]'), candle_open_timestamps=array([1715327700000, 1715328000000, 1715328300000, ..., 1715776800000,\n",
              "       1715777100000, 1715777400000], dtype=int64), candle_close_datetimes=None, candle_close_timestamps=None, candle_durations_seconds=array([300, 300, 300, ..., 300, 300, 300]), candle_open_prices=array([63113.9, 63055.6, 63014.0, ..., 63552.6, 63640.2, 63753.4]), candle_high_prices=array([63161.1, 63119.1, 63018.1, ..., 63678.9, 63824.5, 63789.7]), candle_low_prices=array([63049.7, 63007.2, 62898.0, ..., 63255.5, 63480.4, 63611.0]), candle_close_prices=array([63055.6, 63014.0, 62948.9, ..., 63640.2, 63753.4, 63681.9]), candle_usdt_volumes=array([766630.0, 762721.5, 1048225.1, ..., 2415654.7, 2417975.2,\n",
              "       1454303.6]), candle_asset_volumes=array([12.2, 12.1, 16.7, ..., 38.0, 37.9, 22.8]), candle_trade_counts=None, candle_deltas=None, candle_delta_percents=None, candle_buy_volumes=None, candle_buy_counts=None, candle_sell_volumes=None, candle_sell_counts=None, candle_cvds=None, candle_pocs=None, candle_high_lows=None, prices_tuple=None, prices_buy_vol_tuple=None, prices_buy_count_tuple=None, prices_sell_vol_tuple=None, prices_sell_count_tuple=None, prices_delta_tuple=None, prices_delta_percent_tuple=None, prices_volume_tuple=None, prices_trade_count_tuple=None)"
            ]
          },
          "execution_count": 4,
          "metadata": {},
          "output_type": "execute_result"
        }
      ],
      "source": [
        "candles"
      ]
    },
    {
      "cell_type": "code",
      "execution_count": 16,
      "metadata": {},
      "outputs": [
        {
          "data": {
            "text/plain": [
              "array(['2024-04-30T08:40:00.000', '2024-04-30T08:45:00.000',\n",
              "       '2024-04-30T08:50:00.000', ..., '2024-05-05T13:25:00.000',\n",
              "       '2024-05-05T13:30:00.000', '2024-05-05T13:35:00.000'],\n",
              "      dtype='datetime64[ms]')"
            ]
          },
          "execution_count": 16,
          "metadata": {},
          "output_type": "execute_result"
        }
      ],
      "source": [
        "candles.candle_open_timestamps.astype(np.int64).astype(\"datetime64[ms]\")"
      ]
    },
    {
      "cell_type": "code",
      "execution_count": 18,
      "metadata": {},
      "outputs": [
        {
          "name": "stdout",
          "output_type": "stream",
          "text": [
            "FootprintCandlesTuple(\n",
            "    candle_open_datetimes = ['2024-04-30T08:50:00.000' '2024-04-30T08:55:00.000'\n",
            " '2024-04-30T09:00:00.000' ... '2024-05-05T13:35:00.000'\n",
            " '2024-05-05T13:40:00.000' '2024-05-05T13:45:00.000'],\n",
            "    candle_open_timestamps = [1714467000000 1714467300000 1714467600000 ... 1714916100000 1714916400000\n",
            " 1714916700000],\n",
            "    candle_close_timestamps = None,\n",
            "    candle_close_datetimes = None,\n",
            "    candle_durations_seconds = [300 300 300 ... 300 300 300],\n",
            "    candle_open_prices = [62097.6 61960.8 61904.2 ... 63869.9 63955.3 64162.8],\n",
            "    candle_high_prices = [62142.1 62060.3 61978.7 ... 63958.6 64169.0 64168.8],\n",
            "    candle_low_prices = [61960.8 61799.4 61785.2 ... 63832.0 63926.8 64044.2],\n",
            "    candle_close_prices = [61960.8 61904.2 61854.5 ... 63955.3 64162.8 64096.8],\n",
            "    candle_asset_volumes = [28.4 38.7 39.6 ... 14.3 25.7 23.2],\n",
            "    candle_usdt_volumes = [1757456.1 2398663.9 2449314.5 ... 914688.7 1647700.7 1488712.3],\n",
            "    candle_trade_counts = None,\n",
            "    candle_deltas = None,\n",
            "    candle_delta_percents = None,\n",
            "    candle_buy_volumes = None,\n",
            "    candle_buy_counts = None,\n",
            "    candle_sell_volumes = None,\n",
            "    candle_sell_counts = None,\n",
            "    candle_cvds = None,\n",
            "    candle_pocs = None,\n",
            "    candle_high_lows = None,\n",
            "    prices_tuple = None,\n",
            "    prices_buy_vol_tuple = None,\n",
            "    prices_buy_count_tuple = None,\n",
            "    prices_sell_vol_tuple = None,\n",
            "    prices_sell_count_tuple = None,\n",
            "    prices_delta_tuple = None,\n",
            "    prices_delta_percent_tuple = None,\n",
            "    prices_volume_tuple = None,\n",
            "    prices_trade_count_tuple = None,\n",
            ")\n"
          ]
        }
      ],
      "source": [
        "pretty_qf(\n",
        "    candles\n",
        ")"
      ]
    },
    {
      "cell_type": "code",
      "execution_count": 34,
      "metadata": {},
      "outputs": [
        {
          "data": {
            "text/plain": [
              "1714467000.0"
            ]
          },
          "execution_count": 34,
          "metadata": {},
          "output_type": "execute_result"
        }
      ],
      "source": [
        "candles.candle_open_timestamps[0] / 1000"
      ]
    },
    {
      "cell_type": "code",
      "execution_count": 32,
      "metadata": {},
      "outputs": [
        {
          "data": {
            "text/plain": [
              "1714917528.3802614"
            ]
          },
          "execution_count": 32,
          "metadata": {},
          "output_type": "execute_result"
        }
      ],
      "source": [
        "time()"
      ]
    },
    {
      "cell_type": "code",
      "execution_count": 39,
      "metadata": {},
      "outputs": [
        {
          "data": {
            "text/plain": [
              "array([1714467000000, 1714467300000, 1714467600000, ..., 1714916100000,\n",
              "       1714916400000, 1714916700000], dtype=int64)"
            ]
          },
          "execution_count": 39,
          "metadata": {},
          "output_type": "execute_result"
        }
      ],
      "source": [
        "candles[1]"
      ]
    },
    {
      "cell_type": "code",
      "execution_count": 36,
      "metadata": {},
      "outputs": [
        {
          "data": {
            "text/plain": [
              "'2024-04-30 01:50:00'"
            ]
          },
          "execution_count": 36,
          "metadata": {},
          "output_type": "execute_result"
        }
      ],
      "source": [
        "datetime.fromtimestamp(candles.candle_open_timestamps[0] / 1000).strftime('%Y-%m-%d %H:%M:%S')"
      ]
    },
    {
      "cell_type": "code",
      "execution_count": 12,
      "metadata": {},
      "outputs": [
        {
          "data": {
            "text/plain": [
              "FootprintCandlesTuple(candle_open_timestamps=array([1714466100000, 1714466400000, 1714466700000, ..., 1714915200000,\n",
              "       1714915500000, 1714915800000], dtype=int64), candle_close_timestamps=None, candle_durations_seconds=array([300, 300, 300, ..., 300, 300, 300]), candle_open_prices=array([62279.8, 62283.5, 62184.0, ..., 64081.1, 64183.8, 63975.8]), candle_high_prices=array([62391.3, 62411.9, 62209.6, ..., 64250.7, 64197.9, 64038.1]), candle_low_prices=array([62172.3, 62139.6, 61935.4, ..., 63994.4, 63943.4, 63711.7]), candle_close_prices=array([62283.5, 62184.0, 62097.6, ..., 64183.8, 63975.8, 63869.9]), candle_asset_volumes=array([42.5, 34.7, 37.1, ..., 51.6, 26.3, 35.3]), candle_usdt_volumes=array([2646924.2, 2159152.8, 2303883.1, ..., 3309509.3, 1682435.6,\n",
              "       2251861.1]), candle_trade_counts=None, candle_deltas=None, candle_delta_percents=None, candle_buy_volumes=None, candle_buy_counts=None, candle_sell_volumes=None, candle_sell_counts=None, candle_cvds=None, candle_pocs=None, candle_high_lows=None, prices_tuple=None, prices_buy_vol_tuple=None, prices_buy_count_tuple=None, prices_sell_vol_tuple=None, prices_sell_count_tuple=None, prices_delta_tuple=None, prices_delta_percent_tuple=None, prices_volume_tuple=None, prices_trade_count_tuple=None)"
            ]
          },
          "execution_count": 12,
          "metadata": {},
          "output_type": "execute_result"
        }
      ],
      "source": [
        "mufex_main_neo.get_candles(\n",
        "    symbol=symbol,\n",
        "    timeframe=\"5m\",\n",
        ")"
      ]
    },
    {
      "cell_type": "code",
      "execution_count": null,
      "metadata": {},
      "outputs": [],
      "source": [
        "mufex_main_neo"
      ]
    },
    {
      "cell_type": "code",
      "execution_count": 10,
      "metadata": {},
      "outputs": [
        {
          "ename": "Exception",
          "evalue": "Mufex create_order upstream server error -> 'orderId'",
          "output_type": "error",
          "traceback": [
            "\u001b[1;31m---------------------------------------------------------------------------\u001b[0m",
            "\u001b[1;31mKeyError\u001b[0m                                  Traceback (most recent call last)",
            "File \u001b[1;32mE:\\coding\\quantfreedom\\quantfreedom\\exchanges\\mufex.py:392\u001b[0m, in \u001b[0;36mMufex.create_order\u001b[1;34m(self, symbol, buy_sell, position_mode, order_type, asset_size, time_in_force, price, triggerDirection, triggerPrice, triggerBy, tpTriggerBy, slTriggerBy, custom_order_id, takeProfit, stopLoss, reduce_only, closeOnTrigger)\u001b[0m\n\u001b[0;32m    391\u001b[0m \u001b[38;5;28;01mtry\u001b[39;00m:\n\u001b[1;32m--> 392\u001b[0m     order_id \u001b[38;5;241m=\u001b[39m \u001b[43mresponse\u001b[49m\u001b[43m[\u001b[49m\u001b[38;5;124;43m\"\u001b[39;49m\u001b[38;5;124;43mdata\u001b[39;49m\u001b[38;5;124;43m\"\u001b[39;49m\u001b[43m]\u001b[49m\u001b[43m[\u001b[49m\u001b[38;5;124;43m\"\u001b[39;49m\u001b[38;5;124;43morderId\u001b[39;49m\u001b[38;5;124;43m\"\u001b[39;49m\u001b[43m]\u001b[49m\n\u001b[0;32m    393\u001b[0m     \u001b[38;5;28;01mreturn\u001b[39;00m order_id\n",
            "\u001b[1;31mKeyError\u001b[0m: 'orderId'",
            "\nDuring handling of the above exception, another exception occurred:\n",
            "\u001b[1;31mException\u001b[0m                                 Traceback (most recent call last)",
            "Cell \u001b[1;32mIn[10], line 1\u001b[0m\n\u001b[1;32m----> 1\u001b[0m \u001b[43mmufex_test_vlad\u001b[49m\u001b[38;5;241;43m.\u001b[39;49m\u001b[43mcreate_long_hedge_mode_entry_market_order\u001b[49m\u001b[43m(\u001b[49m\n\u001b[0;32m      2\u001b[0m \u001b[43m    \u001b[49m\u001b[43masset_size\u001b[49m\u001b[38;5;241;43m=\u001b[39;49m\u001b[38;5;241;43m0.001\u001b[39;49m\u001b[43m,\u001b[49m\n\u001b[0;32m      3\u001b[0m \u001b[43m    \u001b[49m\u001b[43msymbol\u001b[49m\u001b[38;5;241;43m=\u001b[39;49m\u001b[43msymbol\u001b[49m\u001b[43m,\u001b[49m\n\u001b[0;32m      4\u001b[0m \u001b[43m)\u001b[49m\n",
            "File \u001b[1;32mE:\\coding\\quantfreedom\\quantfreedom\\exchanges\\mufex.py:1021\u001b[0m, in \u001b[0;36mMufex.create_long_hedge_mode_entry_market_order\u001b[1;34m(self, asset_size, symbol)\u001b[0m\n\u001b[0;32m   1016\u001b[0m \u001b[38;5;28;01mdef\u001b[39;00m \u001b[38;5;21mcreate_long_hedge_mode_entry_market_order\u001b[39m(\n\u001b[0;32m   1017\u001b[0m     \u001b[38;5;28mself\u001b[39m,\n\u001b[0;32m   1018\u001b[0m     asset_size: \u001b[38;5;28mfloat\u001b[39m,\n\u001b[0;32m   1019\u001b[0m     symbol: \u001b[38;5;28mstr\u001b[39m,\n\u001b[0;32m   1020\u001b[0m ):\n\u001b[1;32m-> 1021\u001b[0m     \u001b[38;5;28;01mreturn\u001b[39;00m \u001b[38;5;28;43mself\u001b[39;49m\u001b[38;5;241;43m.\u001b[39;49m\u001b[43mcreate_order\u001b[49m\u001b[43m(\u001b[49m\n\u001b[0;32m   1022\u001b[0m \u001b[43m        \u001b[49m\u001b[43msymbol\u001b[49m\u001b[38;5;241;43m=\u001b[39;49m\u001b[43msymbol\u001b[49m\u001b[43m,\u001b[49m\n\u001b[0;32m   1023\u001b[0m \u001b[43m        \u001b[49m\u001b[43mposition_mode\u001b[49m\u001b[38;5;241;43m=\u001b[39;49m\u001b[43mPositionModeType\u001b[49m\u001b[38;5;241;43m.\u001b[39;49m\u001b[43mBuySide\u001b[49m\u001b[43m,\u001b[49m\n\u001b[0;32m   1024\u001b[0m \u001b[43m        \u001b[49m\u001b[43mbuy_sell\u001b[49m\u001b[38;5;241;43m=\u001b[39;49m\u001b[38;5;124;43m\"\u001b[39;49m\u001b[38;5;124;43mBuy\u001b[39;49m\u001b[38;5;124;43m\"\u001b[39;49m\u001b[43m,\u001b[49m\n\u001b[0;32m   1025\u001b[0m \u001b[43m        \u001b[49m\u001b[43morder_type\u001b[49m\u001b[38;5;241;43m=\u001b[39;49m\u001b[38;5;124;43m\"\u001b[39;49m\u001b[38;5;124;43mMarket\u001b[39;49m\u001b[38;5;124;43m\"\u001b[39;49m\u001b[43m,\u001b[49m\n\u001b[0;32m   1026\u001b[0m \u001b[43m        \u001b[49m\u001b[43masset_size\u001b[49m\u001b[38;5;241;43m=\u001b[39;49m\u001b[43masset_size\u001b[49m\u001b[43m,\u001b[49m\n\u001b[0;32m   1027\u001b[0m \u001b[43m        \u001b[49m\u001b[43mtime_in_force\u001b[49m\u001b[38;5;241;43m=\u001b[39;49m\u001b[38;5;124;43m\"\u001b[39;49m\u001b[38;5;124;43mGoodTillCancel\u001b[39;49m\u001b[38;5;124;43m\"\u001b[39;49m\u001b[43m,\u001b[49m\n\u001b[0;32m   1028\u001b[0m \u001b[43m    \u001b[49m\u001b[43m)\u001b[49m\n",
            "File \u001b[1;32mE:\\coding\\quantfreedom\\quantfreedom\\exchanges\\mufex.py:395\u001b[0m, in \u001b[0;36mMufex.create_order\u001b[1;34m(self, symbol, buy_sell, position_mode, order_type, asset_size, time_in_force, price, triggerDirection, triggerPrice, triggerBy, tpTriggerBy, slTriggerBy, custom_order_id, takeProfit, stopLoss, reduce_only, closeOnTrigger)\u001b[0m\n\u001b[0;32m    393\u001b[0m     \u001b[38;5;28;01mreturn\u001b[39;00m order_id\n\u001b[0;32m    394\u001b[0m \u001b[38;5;28;01mexcept\u001b[39;00m \u001b[38;5;167;01mException\u001b[39;00m \u001b[38;5;28;01mas\u001b[39;00m e:\n\u001b[1;32m--> 395\u001b[0m     \u001b[38;5;28;01mraise\u001b[39;00m \u001b[38;5;167;01mException\u001b[39;00m(\u001b[38;5;124mf\u001b[39m\u001b[38;5;124m\"\u001b[39m\u001b[38;5;124mMufex create_order \u001b[39m\u001b[38;5;132;01m{\u001b[39;00mresponse[\u001b[38;5;124m'\u001b[39m\u001b[38;5;124mmessage\u001b[39m\u001b[38;5;124m'\u001b[39m]\u001b[38;5;132;01m}\u001b[39;00m\u001b[38;5;124m -> \u001b[39m\u001b[38;5;132;01m{\u001b[39;00me\u001b[38;5;132;01m}\u001b[39;00m\u001b[38;5;124m\"\u001b[39m)\n",
            "\u001b[1;31mException\u001b[0m: Mufex create_order upstream server error -> 'orderId'"
          ]
        }
      ],
      "source": [
        "mufex_test_vlad.create_long_hedge_mode_entry_market_order(\n",
        "    asset_size=0.001,\n",
        "    symbol=symbol,\n",
        ")"
      ]
    },
    {
      "cell_type": "code",
      "execution_count": 19,
      "metadata": {},
      "outputs": [
        {
          "data": {
            "text/plain": [
              "[{'coin': 'USDT',\n",
              "  'equity': '498.7470602',\n",
              "  'walletBalance': '498.7470602',\n",
              "  'positionMargin': '0',\n",
              "  'availableBalance': '498.7470602',\n",
              "  'orderMargin': '0',\n",
              "  'occClosingFee': '0',\n",
              "  'occFundingFee': '0',\n",
              "  'unrealisedPnl': '0',\n",
              "  'cumRealisedPnl': '4.8354',\n",
              "  'givenCash': '0',\n",
              "  'serviceCash': '0'}]"
            ]
          },
          "execution_count": 19,
          "metadata": {},
          "output_type": "execute_result"
        }
      ],
      "source": [
        "mufex_main_testacc.get_wallet_info()"
      ]
    },
    {
      "cell_type": "code",
      "execution_count": 17,
      "metadata": {},
      "outputs": [
        {
          "data": {
            "text/plain": [
              "[{'coin': 'USDT',\n",
              "  'equity': '301',\n",
              "  'walletBalance': '301',\n",
              "  'positionMargin': '0',\n",
              "  'availableBalance': '301',\n",
              "  'orderMargin': '0',\n",
              "  'occClosingFee': '0',\n",
              "  'occFundingFee': '0',\n",
              "  'unrealisedPnl': '0',\n",
              "  'cumRealisedPnl': '0',\n",
              "  'givenCash': '0',\n",
              "  'serviceCash': '0'}]"
            ]
          },
          "execution_count": 17,
          "metadata": {},
          "output_type": "execute_result"
        }
      ],
      "source": [
        "mufex_main.get_wallet_info()"
      ]
    },
    {
      "cell_type": "code",
      "execution_count": 18,
      "metadata": {},
      "outputs": [
        {
          "data": {
            "text/plain": [
              "[{'coin': 'USDT',\n",
              "  'equity': '100000',\n",
              "  'walletBalance': '100000',\n",
              "  'positionMargin': '0',\n",
              "  'availableBalance': '100000',\n",
              "  'orderMargin': '0',\n",
              "  'occClosingFee': '0',\n",
              "  'occFundingFee': '0',\n",
              "  'unrealisedPnl': '0',\n",
              "  'cumRealisedPnl': '0',\n",
              "  'givenCash': '0',\n",
              "  'serviceCash': '0'}]"
            ]
          },
          "execution_count": 18,
          "metadata": {},
          "output_type": "execute_result"
        }
      ],
      "source": [
        "mufex_test.get_wallet_info()"
      ]
    },
    {
      "cell_type": "code",
      "execution_count": 4,
      "metadata": {},
      "outputs": [
        {
          "name": "stdout",
          "output_type": "stream",
          "text": [
            "                         timestamp     open     high      low    close  volume\n",
            "datetime                                                                      \n",
            "2024-04-14 15:18:00  1713107880000  64102.2  64128.9  64071.0  64126.6    5.18 1500\n",
            "Will sleep for 0 hrs 00 mins and 00 seconds till next bar\n",
            "\n",
            "                         timestamp     open     high      low    close  volume\n",
            "datetime                                                                      \n",
            "2024-04-14 15:19:00  1713107940000  64126.6  64127.8  64025.5  64036.9    5.33\n",
            "No Entry\n",
            "Will sleep for 0 hrs 00 mins and 26 seconds till next bar\n",
            "\n"
          ]
        }
      ],
      "source": [
        "from time import sleep\n",
        "\n",
        "candles = candles_to_df(\n",
        "    mufex_main.get_candles(\n",
        "        symbol=\"BTCUSDT\",\n",
        "        timeframe=\"1m\",\n",
        "    )\n",
        ")\n",
        "print(candles.index[-1], candles.shape[0])\n",
        "sleep(mufex_main.get_sleep_time_to_next_bar())\n",
        "try:\n",
        "    candles = candles_to_df(\n",
        "        mufex_main.get_candles(\n",
        "            symbol=\"BTCUSDT\",\n",
        "            timeframe=\"1m\",\n",
        "        )\n",
        "    )\n",
        "    print(candles.index[-1], candles.shape[0])\n",
        "    if 1 == 3:\n",
        "        pass\n",
        "    else:\n",
        "        print(\"No Entry\")\n",
        "    sleep(mufex_main.get_sleep_time_to_next_bar())\n",
        "except Exception as e:\n",
        "    print(f\"Exception: {str(e)}\")"
      ]
    },
    {
      "cell_type": "code",
      "execution_count": 6,
      "metadata": {},
      "outputs": [
        {
          "data": {
            "text/plain": [
              "[{'coin': 'USDT',\n",
              "  'equity': '326.916672',\n",
              "  'walletBalance': '326.916672',\n",
              "  'positionMargin': '0',\n",
              "  'availableBalance': '326.916672',\n",
              "  'orderMargin': '0',\n",
              "  'occClosingFee': '0',\n",
              "  'occFundingFee': '0',\n",
              "  'unrealisedPnl': '0',\n",
              "  'cumRealisedPnl': '55.5091',\n",
              "  'givenCash': '0',\n",
              "  'serviceCash': '0'}]"
            ]
          },
          "execution_count": 6,
          "metadata": {},
          "output_type": "execute_result"
        }
      ],
      "source": [
        "mufex_main.get_wallet_info(trading_with)"
      ]
    },
    {
      "cell_type": "code",
      "execution_count": null,
      "metadata": {},
      "outputs": [],
      "source": [
        "mufex_test.get_wallet_info_of_asset"
      ]
    },
    {
      "cell_type": "code",
      "execution_count": 18,
      "metadata": {},
      "outputs": [
        {
          "data": {
            "text/plain": [
              "ExchangeSettings(asset_tick_step=3, leverage_mode=1, leverage_tick_step=2, limit_fee_pct=0.0003, market_fee_pct=0.0006, max_asset_size=100.0, max_leverage=150.0, min_asset_size=0.001, min_leverage=1.0, mmr_pct=0.004, position_mode=3, price_tick_step=1)"
            ]
          },
          "execution_count": 18,
          "metadata": {},
          "output_type": "execute_result"
        }
      ],
      "source": [
        "mufex_main.set_and_get_exchange_settings_tuple(\n",
        "    symbol=\"BTCUSDT\",\n",
        "    position_mode=PositionModeType.HedgeMode,\n",
        "    leverage_mode=LeverageModeType.Isolated,\n",
        ")"
      ]
    },
    {
      "cell_type": "code",
      "execution_count": null,
      "metadata": {},
      "outputs": [],
      "source": [
        "mufex_main.get_candles(\n",
        "    symbol=\"BTCUSDT\",\n",
        "    timeframe=\"30m\",\n",
        "    candles_to_dl=3000,\n",
        "    # since_datetime = datetime(2021, 1, 1)\n",
        "    # until_datetime = datetime(2021, 1, 1)\n",
        ")"
      ]
    },
    {
      "cell_type": "code",
      "execution_count": 20,
      "metadata": {},
      "outputs": [
        {
          "data": {
            "text/plain": [
              "'7e4684ca-4496-438f-ba52-25ad847083b6'"
            ]
          },
          "execution_count": 20,
          "metadata": {},
          "output_type": "execute_result"
        }
      ],
      "source": [
        "mufex_test.create_order(\n",
        "    symbol=symbol,\n",
        "    position_mode=PositionModeType.BuySide,\n",
        "    buy_sell=\"Buy\",\n",
        "    order_type=\"Market\",\n",
        "    asset_size=0.05,\n",
        "    time_in_force=\"GoodTillCancel\",\n",
        ")"
      ]
    },
    {
      "cell_type": "code",
      "execution_count": null,
      "metadata": {},
      "outputs": [],
      "source": [
        "mufex_test.create_order(\n",
        "    symbol=symbol,\n",
        "    position_mode=PositionModeType.SellSide,\n",
        "    buy_sell=\"Sell\",\n",
        "    order_type=\"Market\",\n",
        "    asset_size=0.05,\n",
        "    time_in_force=\"GoodTillCancel\",\n",
        "    stopLoss=74000,\n",
        ")"
      ]
    },
    {
      "cell_type": "code",
      "execution_count": null,
      "metadata": {},
      "outputs": [],
      "source": [
        "mufex_test.sort_list_of_dicts(mufex_test.get_position_info(symbol=symbol))"
      ]
    }
  ],
  "metadata": {
    "kernelspec": {
      "display_name": "qfFree",
      "language": "python",
      "name": "python3"
    },
    "language_info": {
      "codemirror_mode": {
        "name": "ipython",
        "version": 3
      },
      "file_extension": ".py",
      "mimetype": "text/x-python",
      "name": "python",
      "nbconvert_exporter": "python",
      "pygments_lexer": "ipython3",
      "version": "3.12.4"
    },
    "orig_nbformat": 4
  },
  "nbformat": 4,
  "nbformat_minor": 2
}
